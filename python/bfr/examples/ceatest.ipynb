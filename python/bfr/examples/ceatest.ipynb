{
 "cells": [
  {
   "cell_type": "markdown",
   "id": "5f9cc14f",
   "metadata": {},
   "source": [
    "short test for a sliced file"
   ]
  },
  {
   "cell_type": "code",
   "execution_count": 1,
   "id": "ed6c9616",
   "metadata": {},
   "outputs": [],
   "source": [
    "import json\n",
    "import ats_base as ats\n",
    "import json_header as jh\n",
    "import struct"
   ]
  },
  {
   "cell_type": "code",
   "execution_count": 2,
   "id": "2b4dd323",
   "metadata": {},
   "outputs": [],
   "source": [
    "base = '37024_20140808_ca_2048H_Hy'\n",
    "filename = base + '.ats'"
   ]
  },
  {
   "cell_type": "code",
   "execution_count": 3,
   "id": "47127cfb",
   "metadata": {},
   "outputs": [
    {
     "name": "stdout",
     "output_type": "stream",
     "text": [
      "{\n",
      "  \"header_length\": 33760,\n",
      "  \"header_version\": 1080,\n",
      "  \"samples\": 39968,\n",
      "  \"sample_rate\": 2048.0,\n",
      "  \"start\": 4294954560,\n",
      "  \"lsbval\": 0.0002259536,\n",
      "  \"GMToffset\": 0,\n",
      "  \"orig_sample_rate\": 2048.0,\n",
      "  \"serial_number\": 308,\n",
      "  \"serial_number_ADC_board\": 20808,\n",
      "  \"channel_number\": 8,\n",
      "  \"chopper\": 1,\n",
      "  \"channel_type\": \"Hy\",\n",
      "  \"sensor_type\": \"MFS06e\",\n",
      "  \"sensor_serial_number\": 331,\n",
      "  \"x1\": 0.0,\n",
      "  \"y1\": 0.0,\n",
      "  \"z1\": 0.0,\n",
      "  \"x2\": 0.0,\n",
      "  \"y2\": 0.0,\n",
      "  \"z2\": 0.0,\n",
      "  \"dipole_length\": 0.0,\n",
      "  \"angle\": 0.0,\n",
      "  \"rho_probe_ohm\": 208756.0,\n",
      "  \"DC_offset_voltage_mV\": 0.1542699933052063,\n",
      "  \"gain_stage1\": 1.0,\n",
      "  \"gain_stage2\": 1.0,\n",
      "  \"iLat_ms\": 136866144,\n",
      "  \"iLong_ms\": 423649518,\n",
      "  \"iElev_cm\": 970,\n",
      "  \"Lat_Long_TYPE\": \"G\",\n",
      "  \"coordinate_type\": \"\",\n",
      "  \"ref_meridian\": 0,\n",
      "  \"Northing\": 0.0,\n",
      "  \"Easting\": 0.0,\n",
      "  \"gps_clock_status\": \"C\",\n",
      "  \"GPS_accuracy\": 0,\n",
      "  \"offset_UTC\": 0,\n",
      "  \"SystemType\": \"ADU07\",\n",
      "  \"survey_header_filename\": \"c\",\n",
      "  \"type_of_meas\": \"MT\",\n",
      "  \"DCOffsetCorrValue\": 0.0,\n",
      "  \"DCOffsetCorrOn\": 0,\n",
      "  \"InputDivOn\": 1,\n",
      "  \"bit_indicator\": 0,\n",
      "  \"result_selftest\": \"OK\",\n",
      "  \"numslices\": 1,\n",
      "  \"cal_freqs\": 0,\n",
      "  \"cal_entry_length\": 0,\n",
      "  \"cal_version\": 0,\n",
      "  \"cal_start_address\": 1024,\n",
      "  \"UTMZone\": \"\",\n",
      "  \"system_cal_datetime\": 0,\n",
      "  \"sensor_cal_filename\": \"SENSOR.CAL\",\n",
      "  \"sensor_cal_datetime\": 0,\n",
      "  \"powerline1\": 0.0,\n",
      "  \"powerline2\": 0.0,\n",
      "  \"samples_64bit\": 4538957441598185653,\n",
      "  \"external_gain\": 1.0,\n",
      "  \"ADB_board_type\": \"LF\",\n",
      "  \"Client\": \"\",\n",
      "  \"Contractor\": \"\",\n",
      "  \"Area\": \"Wudi\",\n",
      "  \"SurveyID\": \"passive\",\n",
      "  \"Operator\": \"CEA\",\n",
      "  \"SiteName\": \"\",\n",
      "  \"XmlHeader\": \"37024_2014-08-08_00-05-00_2014-08-08_00-15-00_R000_ca_2048H.xml\",\n",
      "  \"Comments\": \"Metronix CEA Test Site\",\n",
      "  \"SiteNameRR\": \"\",\n",
      "  \"SiteNameEMAP\": \"\",\n",
      "  \"LF-RF-4\": \"on\"\n",
      "}\n"
     ]
    }
   ],
   "source": [
    "atsheader, slice_headers = ats.read_atsheader(filename)\n",
    "print(json.dumps(atsheader, indent=2, sort_keys=False, ensure_ascii=False))     # check the result of binary data\n"
   ]
  }
 ],
 "metadata": {
  "kernelspec": {
   "display_name": "Python 3 (ipykernel)",
   "language": "python",
   "name": "python3"
  },
  "language_info": {
   "codemirror_mode": {
    "name": "ipython",
    "version": 3
   },
   "file_extension": ".py",
   "mimetype": "text/x-python",
   "name": "python",
   "nbconvert_exporter": "python",
   "pygments_lexer": "ipython3",
   "version": "3.10.2"
  }
 },
 "nbformat": 4,
 "nbformat_minor": 5
}
