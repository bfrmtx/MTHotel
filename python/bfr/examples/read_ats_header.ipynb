{
 "cells": [
  {
   "cell_type": "markdown",
   "id": "04ede609",
   "metadata": {},
   "source": [
    "# Read a binary ats file (old ats file)"
   ]
  },
  {
   "cell_type": "code",
   "execution_count": 1,
   "id": "2e29c904",
   "metadata": {},
   "outputs": [],
   "source": [
    "import json\n",
    "import sys, os\n",
    "import struct\n",
    "sys.path.append(os.path.realpath('../../include'))\n",
    "import ats_base as ats\n",
    "import json_header as jh\n"
   ]
  },
  {
   "cell_type": "code",
   "execution_count": 2,
   "id": "6d8136eb",
   "metadata": {},
   "outputs": [
    {
     "name": "stdout",
     "output_type": "stream",
     "text": [
      "old ats header data:\n",
      "{\n",
      "  \"header_length\": 1024,\n",
      "  \"header_version\": 75,\n",
      "  \"samples\": 31716,\n",
      "  \"sample_rate\": 0.5,\n",
      "  \"start\": 1250774545,\n",
      "  \"lsbval\": 5.6232e-05,\n",
      "  \"GMToffset\": 0,\n",
      "  \"orig_sample_rate\": 0.0,\n",
      "  \"serial_number\": 84,\n",
      "  \"serial_number_ADC_board\": 56410,\n",
      "  \"channel_number\": 0,\n",
      "  \"chopper\": 1,\n",
      "  \"channel_type\": \"Ex\",\n",
      "  \"sensor_type\": \"EFP06\",\n",
      "  \"sensor_serial_number\": 0,\n",
      "  \"x1\": -30.0,\n",
      "  \"y1\": 0.0,\n",
      "  \"z1\": 0.0,\n",
      "  \"x2\": 30.0,\n",
      "  \"y2\": 0.0,\n",
      "  \"z2\": 0.0,\n",
      "  \"dipole_length\": 0.0,\n",
      "  \"angle\": 0.0,\n",
      "  \"rho_probe_ohm\": 572.3670043945312,\n",
      "  \"DC_offset_voltage_mV\": 0.004233600106090307,\n",
      "  \"gain_stage1\": 8.0,\n",
      "  \"gain_stage2\": 0.0,\n",
      "  \"iLat_ms\": 140494308,\n",
      "  \"iLong_ms\": 104846232,\n",
      "  \"iElev_cm\": 108831,\n",
      "  \"Lat_Long_TYPE\": \"G\",\n",
      "  \"coordinate_type\": \"\",\n",
      "  \"ref_meridian\": 0,\n",
      "  \"Northing\": 0.0,\n",
      "  \"Easting\": 0.0,\n",
      "  \"gps_clock_status\": \"C\",\n",
      "  \"GPS_accuracy\": 0,\n",
      "  \"offset_UTC\": 0,\n",
      "  \"SystemType\": \"ADU07\",\n",
      "  \"survey_header_filename\": \"Reference si\",\n",
      "  \"type_of_meas\": \"MT\",\n",
      "  \"DCOffsetCorrValue\": 0.0,\n",
      "  \"DCOffsetCorrOn\": 0,\n",
      "  \"InputDivOn\": 0,\n",
      "  \"bit_indicator\": 0,\n",
      "  \"result_selftest\": \"OK\",\n",
      "  \"numslices\": 0,\n",
      "  \"cal_freqs\": 0,\n",
      "  \"cal_entry_length\": 0,\n",
      "  \"cal_version\": 0,\n",
      "  \"cal_start_address\": 1024,\n",
      "  \"UTMZone\": \"\",\n",
      "  \"system_cal_datetime\": 0,\n",
      "  \"sensor_cal_filename\": \"SENSOR.CAL\",\n",
      "  \"sensor_cal_datetime\": 0,\n",
      "  \"powerline1\": 0.0,\n",
      "  \"powerline2\": 0.0,\n",
      "  \"samples_64bit\": 0,\n",
      "  \"external_gain\": 0.0,\n",
      "  \"ADB_board_type\": \"LF\",\n",
      "  \"Client\": \"\",\n",
      "  \"Contractor\": \"\",\n",
      "  \"Area\": \"\",\n",
      "  \"SurveyID\": \"\",\n",
      "  \"Operator\": \"CK\",\n",
      "  \"SiteName\": \"\",\n",
      "  \"XmlHeader\": \"084_2009-08-20_13-22-25_2009-08-21_06-59-37_R001_2S.xml\",\n",
      "  \"Comments\": \"\",\n",
      "  \"SiteNameRR\": \"\",\n",
      "  \"SiteNameEMAP\": \"\",\n",
      "  \"LF-RF-4\": \"on\"\n",
      "}\n"
     ]
    }
   ],
   "source": [
    "# take an existing file 084_V01_C02_R001_THx_BL_2S.ats\n",
    "#base = '084_V01_C02_R001_THx_BL_2S'\n",
    "base = '084_V01_C00_R001_TEx_BL_2S'\n",
    "ats_file = base + '.ats'              # the existing\n",
    "atss_file = base + '.atss'            # new as double, scaled for E!\n",
    "\n",
    "ats_header, slice_headers = ats.read_atsheader(ats_file)     # read the binary header\n",
    "print(\"old ats header data:\")\n",
    "print(json.dumps(ats_header, indent=2, sort_keys=False, ensure_ascii=False))  # check the result of binary data\n",
    "       "
   ]
  },
  {
   "cell_type": "code",
   "execution_count": 3,
   "id": "f1b9e4bb",
   "metadata": {},
   "outputs": [
    {
     "name": "stdout",
     "output_type": "stream",
     "text": [
      "channel imported from ats file:\n",
      "{\n",
      "  \"serial\": 84,\n",
      "  \"system\": \"ADU-07\",\n",
      "  \"channel_no\": 0,\n",
      "  \"run\": 1,\n",
      "  \"channel_type\": \"Ex\",\n",
      "  \"sample_rate\": 0.5,\n",
      "  \"date\": \"2009-08-20\",\n",
      "  \"time\": \"13:22:25\",\n",
      "  \"fracs\": 0.0,\n",
      "  \"latitude\": 39.026196666666664,\n",
      "  \"longitude\": 29.123953333333333,\n",
      "  \"elevation\": 1088.31,\n",
      "  \"angle\": 0.0,\n",
      "  \"dip\": 90.0,\n",
      "  \"units\": \"mV\",\n",
      "  \"source\": \"\",\n",
      "  \"site\": \"Sarıçam\",\n",
      "  \"sensor_calibration\": {\n",
      "    \"sensor\": \"EFP-06\",\n",
      "    \"serial\": 0,\n",
      "    \"chopper\": 1,\n",
      "    \"units_amplitude\": \"mV\",\n",
      "    \"units_frequency\": \"Hz\",\n",
      "    \"units_phase\": \"degrees\",\n",
      "    \"date\": \"1970-01-01\",\n",
      "    \"time\": \"00:00:00\",\n",
      "    \"Operator\": \"\",\n",
      "    \"f\": [\n",
      "      0.0\n",
      "    ],\n",
      "    \"a\": [\n",
      "      0.0\n",
      "    ],\n",
      "    \"p\": [\n",
      "      0.0\n",
      "    ]\n",
      "  },\n",
      "  \"dipole_length\": 60.0,\n",
      "  \"lsb\": 5.6232e-05,\n",
      "  \"samples\": 31716\n",
      "}\n"
     ]
    }
   ],
   "source": [
    "# change the site name ... this old site has none\n",
    "ats_header['SiteName'] = \"Sarıçam\"                           \n",
    "ats_header['Operator'] = \"newbee\" \n",
    "# test success in old binary format\n",
    "testfile = 'testheader.ats'\n",
    "ats.write_atsheader(ats_header, testfile, False)    # with atsedit you can prove the header and should see the new site name\n",
    "\n",
    "# import will convert lat lon elev and so on\n",
    "channel = jh.channel_form_oldheader(ats_header)     # copy old into new header (with site name)\n",
    "\n",
    "print(\"channel imported from ats file:\")\n",
    "\n",
    "print(json.dumps(channel, indent=2, sort_keys=False, ensure_ascii=False))\n"
   ]
  },
  {
   "cell_type": "code",
   "execution_count": 4,
   "id": "a5972547",
   "metadata": {},
   "outputs": [
    {
     "name": "stdout",
     "output_type": "stream",
     "text": [
      "no such table: EFP-06\n",
      "{\n",
      "  \"sensor\": \"EFP-06\",\n",
      "  \"serial\": 0,\n",
      "  \"chopper\": 1,\n",
      "  \"units_amplitude\": \"mV\",\n",
      "  \"units_frequency\": \"Hz\",\n",
      "  \"units_phase\": \"degrees\",\n",
      "  \"date\": \"1970-01-01\",\n",
      "  \"time\": \"00:00:00\",\n",
      "  \"Operator\": \"\",\n",
      "  \"f\": [],\n",
      "  \"a\": [],\n",
      "  \"p\": []\n",
      "}\n"
     ]
    }
   ],
   "source": [
    "# the new file REQUIRES calibrtation data INSIDE the header\n",
    "# ALL what is needed for processing must be inside the header\n",
    "# for the old data from Sarıçam calibration is lost\n",
    "# take a default master function (done here)\n",
    "# or take a real calibration from the database\n",
    "# if f, a, p are 0.0 the software will calculate a calibration\n",
    "#    from sensor and chopper\n",
    "# this is the case for boards, filters or fluxgates\n",
    "\n",
    "# serial indicates take calibration from master calibration data file\n",
    "\n",
    "channel['sensor_calibration']['f'], channel['sensor_calibration']['a'], channel['sensor_calibration']['p'] = jh.get_cal_from_db(\"\", channel['sensor_calibration']['sensor'], 0, 1)\n",
    "\n",
    "\n",
    "print(json.dumps(channel['sensor_calibration'], indent=2, sort_keys=False, ensure_ascii=False))"
   ]
  },
  {
   "cell_type": "code",
   "execution_count": 5,
   "id": "59eb0512",
   "metadata": {},
   "outputs": [
    {
     "name": "stdout",
     "output_type": "stream",
     "text": [
      "write:  084_ADU-07_C000_R001_TEx_2s.json\n"
     ]
    }
   ],
   "source": [
    "# now FIRST WRITE THE ATSS file with doubles\n",
    "# ATSS wants to SCALE the E field in case\n",
    "# watch that the function returns a NEW units in case\n",
    "\n",
    "channel['units'] = ats.atss_file_from_atsfile(ats_file, channel, jh.atss_filename(channel) + \".atss\")\n",
    "\n",
    "# and write the JSON file (after possible scaling to E = mV/km )\n",
    "\n",
    "jh.to_json(channel)\n",
    "\n",
    "\n"
   ]
  },
  {
   "cell_type": "code",
   "execution_count": null,
   "id": "1805c919",
   "metadata": {},
   "outputs": [],
   "source": []
  }
 ],
 "metadata": {
  "kernelspec": {
   "display_name": "Python 3 (ipykernel)",
   "language": "python",
   "name": "python3"
  },
  "language_info": {
   "codemirror_mode": {
    "name": "ipython",
    "version": 3
   },
   "file_extension": ".py",
   "mimetype": "text/x-python",
   "name": "python",
   "nbconvert_exporter": "python",
   "pygments_lexer": "ipython3",
   "version": "3.10.5"
  }
 },
 "nbformat": 4,
 "nbformat_minor": 5
}
