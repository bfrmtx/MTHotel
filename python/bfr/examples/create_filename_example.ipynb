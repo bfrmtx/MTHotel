{
 "cells": [
  {
   "cell_type": "markdown",
   "id": "d3bd864b",
   "metadata": {},
   "source": [
    "# Create Files\n",
    "\n",
    "You simply create files by creating a channel\n",
    "\n",
    "A channel consists of:\n",
    "\n",
    "**file name + header + calibration + atss data**\n",
    "\n",
    "NONE of the tags is *repeated* \n",
    "\n",
    "\"run\" appears in the filename BUT NOT inside the JSON header *again*\n",
    "\n",
    "The **read_atssheader(filename)** function (without extension):\n",
    "\n",
    "* reads the filename\n",
    "* reads the header\n",
    "* checks the file size / samples from the .atss file\n",
    "\n",
    "and constructs a channel object.\n",
    "\n",
    "If now data is created and put inside the atss file - nothing is to do afterwards.\n",
    "\n",
    "When later opening files, the samples will be calculated automatically.\n"
   ]
  },
  {
   "cell_type": "code",
   "execution_count": 1,
   "id": "05eb3a2a",
   "metadata": {},
   "outputs": [
    {
     "name": "stdout",
     "output_type": "stream",
     "text": [
      "803_ADU-08e_C002_R907_THx_256Hz\n",
      "serial_system_Cchannel_Rrun,sample_rateHz\n"
     ]
    }
   ],
   "source": [
    "import json\n",
    "import sys, os\n",
    "import numpy as np\n",
    "import struct\n",
    "sys.path.append(os.path.realpath('../../include'))\n",
    "import json_header as jh\n",
    "\n",
    "channel_2 = jh.channel()            # create a channel\n",
    "channel_2['serial'] = 803\n",
    "channel_2['sample_rate'] = 256.0\n",
    "channel_2['channel_no'] = 2\n",
    "channel_2['channel_type'] = \"Hx\"\n",
    "channel_2['run'] = 907\n",
    "channel_2['system'] = \"ADU-08e\"\n",
    "channel_2['date'] = \"2021-05-19\"\n",
    "channel_2['time'] = \"17:32:04\"\n",
    "channel_2['latitude'] = 52.2443\n",
    "channel_2['longitude'] = 10.55\n",
    "channel_2['elevation'] = 78.9\n",
    "channel_2['units'] = \"mV\"\n",
    "\n",
    "# file name extract from the channel\n",
    "filename = jh.atss_filename(channel_2)\n",
    "print(filename)\n",
    "print(\"serial_system_Cchannel_Rrun,sample_rateHz\");\n"
   ]
  },
  {
   "cell_type": "code",
   "execution_count": 2,
   "id": "50fd31c5",
   "metadata": {},
   "outputs": [
    {
     "name": "stdout",
     "output_type": "stream",
     "text": [
      "{'date': '2021-05-19', 'time': '17:32:04', 'fracs': 0.0, 'latitude': 52.2443, 'longitude': 10.55, 'elevation': 78.9, 'angle': 0.0, 'dip': 0.0, 'units': 'mV', 'source': ''}\n"
     ]
    }
   ],
   "source": [
    "# what is not inside the filename - header from channel\n",
    "header = jh.json_header(channel_2)\n",
    "print(header)"
   ]
  },
  {
   "cell_type": "code",
   "execution_count": 3,
   "id": "efa26a50",
   "metadata": {},
   "outputs": [
    {
     "name": "stdout",
     "output_type": "stream",
     "text": [
      "{\n",
      "  \"date\": \"2021-05-19\",\n",
      "  \"time\": \"17:32:04\",\n",
      "  \"fracs\": 0.0,\n",
      "  \"latitude\": 52.2443,\n",
      "  \"longitude\": 10.55,\n",
      "  \"elevation\": 78.9,\n",
      "  \"angle\": 0.0,\n",
      "  \"dip\": 0.0,\n",
      "  \"units\": \"mV\",\n",
      "  \"source\": \"\"\n",
      "}\n"
     ]
    }
   ],
   "source": [
    "# and as you would write as JSON to file\n",
    "print(json.dumps(header, indent=2, sort_keys=False, ensure_ascii=False))"
   ]
  },
  {
   "cell_type": "code",
   "execution_count": 4,
   "id": "1292205b",
   "metadata": {},
   "outputs": [
    {
     "name": "stdout",
     "output_type": "stream",
     "text": [
      "fu\n",
      "{'serial': 803, 'system': 'ADU-08e', 'channel_no': 2, 'run': 907, 'channel_type': 'Hx', 'sample_rate': 256.0, 'date': '2021-05-19', 'time': '17:32:04', 'fracs': 0.0, 'latitude': 52.2443, 'longitude': 10.55, 'elevation': 78.9, 'angle': 0.0, 'dip': 0.0, 'units': 'mV', 'source': '', 'sensor_calibration': {'sensor': '', 'serial': 0, 'chopper': 0, 'units_amplitude': 'mV/nT', 'units_frequency': 'Hz', 'units_phase': 'degrees', 'date': '1970-01-01', 'time': '00:00:00', 'Operator': '', 'f': [0.0], 'a': [0.0], 'p': [0.0]}}\n"
     ]
    }
   ],
   "source": [
    "# let's write the header to the disk\n",
    "# the header contains an EMPTY calibration\n",
    "jh.write_atssheader(channel_2)"
   ]
  },
  {
   "cell_type": "code",
   "execution_count": 5,
   "id": "072b6701",
   "metadata": {},
   "outputs": [
    {
     "name": "stdout",
     "output_type": "stream",
     "text": [
      "{\n",
      "  \"serial\": 804,\n",
      "  \"system\": \"ADU-08e\",\n",
      "  \"channel_no\": 0,\n",
      "  \"run\": 907,\n",
      "  \"channel_type\": \"Ex\",\n",
      "  \"sample_rate\": 256.0,\n",
      "  \"date\": \"2021-05-19\",\n",
      "  \"time\": \"17:32:04\",\n",
      "  \"fracs\": 0.0,\n",
      "  \"latitude\": 52.2443,\n",
      "  \"longitude\": 10.55,\n",
      "  \"elevation\": 78.9,\n",
      "  \"angle\": 0.0,\n",
      "  \"dip\": 0.0,\n",
      "  \"units\": \"mV/km\",\n",
      "  \"source\": \"\",\n",
      "  \"sensor_calibration\": {\n",
      "    \"sensor\": \"Electrode\",\n",
      "    \"serial\": 0,\n",
      "    \"chopper\": 0,\n",
      "    \"units_amplitude\": \"mV\",\n",
      "    \"units_frequency\": \"Hz\",\n",
      "    \"units_phase\": \"degrees\",\n",
      "    \"date\": \"1970-01-01\",\n",
      "    \"time\": \"00:00:00\",\n",
      "    \"Operator\": \"\",\n",
      "    \"f\": [\n",
      "      0.0\n",
      "    ],\n",
      "    \"a\": [\n",
      "      0.0\n",
      "    ],\n",
      "    \"p\": [\n",
      "      0.0\n",
      "    ]\n",
      "  }\n",
      "}\n",
      "fu\n",
      "{'serial': 804, 'system': 'ADU-08e', 'channel_no': 0, 'run': 907, 'channel_type': 'Ex', 'sample_rate': 256.0, 'date': '2021-05-19', 'time': '17:32:04', 'fracs': 0.0, 'latitude': 52.2443, 'longitude': 10.55, 'elevation': 78.9, 'angle': 0.0, 'dip': 0.0, 'units': 'mV/km', 'source': '', 'sensor_calibration': {'sensor': 'Electrode', 'serial': 0, 'chopper': 0, 'units_amplitude': 'mV', 'units_frequency': 'Hz', 'units_phase': 'degrees', 'date': '1970-01-01', 'time': '00:00:00', 'Operator': '', 'f': [0.0], 'a': [0.0], 'p': [0.0]}}\n",
      "{\n",
      "  \"serial\": 804,\n",
      "  \"system\": \"ADU-08e\",\n",
      "  \"channel_no\": 0,\n",
      "  \"run\": 907,\n",
      "  \"channel_type\": \"Ex\",\n",
      "  \"sample_rate\": 256.0,\n",
      "  \"date\": \"2021-05-19\",\n",
      "  \"time\": \"17:32:04\",\n",
      "  \"fracs\": 0.0,\n",
      "  \"latitude\": 52.2443,\n",
      "  \"longitude\": 10.55,\n",
      "  \"elevation\": 78.9,\n",
      "  \"angle\": 0.0,\n",
      "  \"dip\": 0.0,\n",
      "  \"units\": \"mV/km\",\n",
      "  \"source\": \"\",\n",
      "  \"sensor_calibration\": {\n",
      "    \"sensor\": \"Electrode\",\n",
      "    \"serial\": 0,\n",
      "    \"chopper\": 0,\n",
      "    \"units_amplitude\": \"mV\",\n",
      "    \"units_frequency\": \"Hz\",\n",
      "    \"units_phase\": \"degrees\",\n",
      "    \"date\": \"1970-01-01\",\n",
      "    \"time\": \"00:00:00\",\n",
      "    \"Operator\": \"\",\n",
      "    \"f\": [\n",
      "      0.0\n",
      "    ],\n",
      "    \"a\": [\n",
      "      0.0\n",
      "    ],\n",
      "    \"p\": [\n",
      "      0.0\n",
      "    ]\n",
      "  }\n",
      "}\n",
      "written:  804_ADU-08e_C000_R907_TEx_256Hz\n"
     ]
    }
   ],
   "source": [
    "# so you want to create an electric field for Ex?\n",
    "channel_2['serial'] = 804\n",
    "channel_2['sample_rate'] = 256.0\n",
    "channel_2['channel_no'] = 0\n",
    "channel_2['channel_type'] = \"Ex\"\n",
    "channel_2['run'] = 907\n",
    "channel_2['system'] = \"ADU-08e\"\n",
    "channel_2['date'] = \"2021-05-19\"\n",
    "channel_2['time'] = \"17:32:04\"\n",
    "channel_2['angle'] = 0.0                # North\n",
    "channel_2['dip'] = 0.0                  # horizontal, default\n",
    "channel_2['units'] = \"mV/km\"            # DO NOT FORGET THIS\n",
    "# the following lines prevent questions\n",
    "# even though calibration is empty\n",
    "channel_2['sensor_calibration']['sensor'] = \"Electrode\"\n",
    "channel_2['sensor_calibration']['units_amplitude'] = \"mV\"\n",
    "print(json.dumps(channel_2, indent=2, sort_keys=False, ensure_ascii=False))\n",
    "jh.write_atssheader(channel_2)\n",
    "print(json.dumps(channel_2, indent=2, sort_keys=False, ensure_ascii=False))\n",
    "\n",
    "newfile = jh.atss_filename(channel_2)\n",
    "print(\"written: \", newfile)\n"
   ]
  },
  {
   "cell_type": "code",
   "execution_count": 6,
   "id": "6a178a1a",
   "metadata": {},
   "outputs": [],
   "source": [
    "# create some \"fake\" data with 1024 samples\n",
    "ts = np.linspace(0, 3.1415, 1024)\n",
    "data   = np.sin(ts)\n",
    "try:\n",
    "    fo = open(filename + \".atss\", 'wb')\n",
    "except IOError:\n",
    "    raise Exception(f'unable to open file for writing: {filename}')\n",
    "try:\n",
    "    with open(filename + \".atss\", 'rb') as f:\n",
    "        for d in data:\n",
    "            fo.write(struct.pack('d', d))\n",
    "    fo.close()\n",
    "except Exception:\n",
    "    raise Exception(f'unable to write atss file: {filename}')\n",
    "    "
   ]
  },
  {
   "cell_type": "code",
   "execution_count": 7,
   "id": "88156ba0",
   "metadata": {},
   "outputs": [
    {
     "name": "stdout",
     "output_type": "stream",
     "text": [
      "{'serial': 803, 'system': 'ADU-08e', 'channel_no': 2, 'run': 907, 'channel_type': 'Hx', 'sample_rate': 256.0, 'date': '2021-05-19', 'time': '17:32:04', 'fracs': 0.0, 'latitude': 52.2443, 'longitude': 10.55, 'elevation': 78.9, 'angle': 0.0, 'dip': 0.0, 'units': 'mV', 'source': '', 'sensor_calibration': {'sensor': '', 'serial': 0, 'chopper': 0, 'units_amplitude': 'mV/nT', 'units_frequency': 'Hz', 'units_phase': 'degrees', 'date': '1970-01-01', 'time': '00:00:00', 'Operator': '', 'f': [0.0], 'a': [0.0], 'p': [0.0]}, 'samples': 1024}\n"
     ]
    }
   ],
   "source": [
    "# re-read the channel created above into a new one\n",
    "channel_new = jh.read_atssheader(filename)\n",
    "print(channel_new)"
   ]
  },
  {
   "cell_type": "code",
   "execution_count": 8,
   "id": "2b72ead6",
   "metadata": {},
   "outputs": [
    {
     "name": "stdout",
     "output_type": "stream",
     "text": [
      "samples from fake data above:  1024\n"
     ]
    }
   ],
   "source": [
    "# samplesare NOT part of the header\n",
    "# but read on the fly - remind we have created 1024 samples above!\n",
    "print(\"samples from fake data above: \", channel_new[\"samples\"])"
   ]
  },
  {
   "cell_type": "code",
   "execution_count": 9,
   "id": "305bed5a",
   "metadata": {},
   "outputs": [
    {
     "name": "stdout",
     "output_type": "stream",
     "text": [
      "{\n",
      "  \"date\": \"2021-05-19\",\n",
      "  \"time\": \"17:32:04\",\n",
      "  \"fracs\": 0.0,\n",
      "  \"latitude\": 52.2443,\n",
      "  \"longitude\": 10.55,\n",
      "  \"elevation\": 78.9,\n",
      "  \"angle\": 0.0,\n",
      "  \"dip\": 0.0,\n",
      "  \"units\": \"mV\",\n",
      "  \"source\": \"\"\n",
      "}\n"
     ]
    }
   ],
   "source": [
    "# you can prove that the header itself does not contain samples\n",
    "header_new = jh.json_header(channel_new)\n",
    "print(json.dumps(header_new, indent=2, sort_keys=False, ensure_ascii=False))"
   ]
  },
  {
   "cell_type": "markdown",
   "id": "6cba8087",
   "metadata": {},
   "source": [
    "# Summary\n",
    "\n",
    "It is difficult to understand why the header as JSON does **NOT** repeat items which are already encoded in the file name or contains the *varying* file size.\n",
    "\n",
    "In programming redundant variables are causing unresolvable problems:\n",
    "\n",
    "start_time, stop_time, sample_rate and samples - is a good example.\n",
    "\n",
    "The stop_time can always be calculated from start_time, sample_rate and samples.\n",
    "\n",
    "If one of the processes \"forgets\" to update the stop_time the data is in an usuable state. If accidently a calculation used N-1 instead of N (typical vector problem where 1023 is the last index of 1024 items) this happens.\n",
    "\n",
    "In the examples above, samples is secure - that is what is really there, and is calculated from the file size. In case the file size is truncated by an FIR filter, you can (worst case) try to adjust the start_time only.\n",
    "\n",
    "I expect that some users will try Python or other libraries - and they will not be able to handle all data correctly. Therefor the above design is not only correct - it is also robust.\n"
   ]
  },
  {
   "cell_type": "code",
   "execution_count": 10,
   "id": "584d3a3c",
   "metadata": {},
   "outputs": [
    {
     "name": "stdout",
     "output_type": "stream",
     "text": [
      "file name CEA style:  cea_site_20190207_ns_4096Hz_Hy_R008\n",
      "slice 8 appears as run!\n"
     ]
    }
   ],
   "source": [
    "# create a CEA obs for 营口台 station\n",
    "channel_cea = jh.channel()            # create a channel\n",
    "channel_cea['serial'] = 22\n",
    "channel_cea['sample_rate'] = 4096.0\n",
    "channel_cea['channel_no'] = 2\n",
    "channel_cea['channel_type'] = \"Hy\"\n",
    "channel_cea['run'] = 8               # slice is treated as run\n",
    "channel_cea['system'] = \"ADU-07e\"\n",
    "channel_cea['date'] = \"2019-02-07\"\n",
    "channel_cea['time'] = \"22:00:00\"\n",
    "channel_cea['latitude'] = 39.9042\n",
    "channel_cea['longitude'] = 16.4074\n",
    "channel_cea['elevation'] = 44.2\n",
    "channel_cea['units'] = \"mV\"\n",
    "channel_cea['site'] = \"21007\"        # remind that site is defined as string!\n",
    "channel_cea['source'] = \"ns\"         # natural source run\n",
    "\n",
    "cea_filename = jh.cea_atss_filename(channel_cea)\n",
    "print(\"file name CEA style: \", cea_filename)\n",
    "print(\"slice 8 appears as run!\")\n",
    "\n"
   ]
  },
  {
   "cell_type": "code",
   "execution_count": 11,
   "id": "e15aa0ba",
   "metadata": {},
   "outputs": [
    {
     "name": "stdout",
     "output_type": "stream",
     "text": [
      "flight data example:  2522_Motus-P2_C000_R000_TPitch_8192Hz\n"
     ]
    }
   ],
   "source": [
    "# create flight data from Motus IMU unit\n",
    "channel_imu = jh.channel()            # create a channel\n",
    "channel_imu['serial'] = 2522\n",
    "channel_imu['sample_rate'] = 8192.0\n",
    "channel_imu['channel_no'] = 0\n",
    "channel_imu['channel_type'] = \"Pitch\"\n",
    "channel_imu['run'] = 0              \n",
    "channel_imu['system'] = \"Motus-P2\"\n",
    "channel_imu['date'] = \"2020-09-14\"\n",
    "channel_imu['time'] = \"11:00:00\"\n",
    "channel_imu['latitude'] = 53.4932\n",
    "channel_imu['longitude'] = 8.7154\n",
    "channel_imu['elevation'] = 14.2\n",
    "channel_imu['units'] = \"deg\"\n",
    "flight_name = jh.atss_filename(channel_imu)\n",
    "print (\"flight data example: \", flight_name)"
   ]
  },
  {
   "cell_type": "code",
   "execution_count": 12,
   "id": "b2770c22",
   "metadata": {},
   "outputs": [
    {
     "name": "stdout",
     "output_type": "stream",
     "text": [
      "temperature data example:  137_ADU-07e_C011_R000_TT_8192Hz\n"
     ]
    }
   ],
   "source": [
    "# create temperature data from fluxgate sensor (FGS-03e, FGS-04e)\n",
    "# can be read out by I2C bus\n",
    "channel_fgst = jh.channel()            # create a channel\n",
    "channel_fgst['serial'] = 137\n",
    "channel_fgst['sample_rate'] = 8192.0\n",
    "channel_fgst['channel_no'] = 11\n",
    "channel_fgst['channel_type'] = \"T\"     # take C(elsius) or K(elvin) \n",
    "channel_fgst['run'] = 0              \n",
    "channel_fgst['system'] = \"ADU-07e\"\n",
    "channel_fgst['date'] = \"2020-09-14\"\n",
    "channel_fgst['time'] = \"11:00:00\"\n",
    "channel_fgst['latitude'] = 17.3850\n",
    "channel_fgst['longitude'] = 78.4867\n",
    "channel_fgst['elevation'] = 506\n",
    "channel_fgst['units'] = \"deg\"\n",
    "channel_fgst['site'] = \"హైదరాబాద్\"       # check if Hyderabad gets written correctly\n",
    "\n",
    "temperature_name = jh.atss_filename(channel_fgst)\n",
    "print (\"temperature data example: \", temperature_name)"
   ]
  },
  {
   "cell_type": "code",
   "execution_count": null,
   "id": "b505dac9",
   "metadata": {},
   "outputs": [],
   "source": []
  },
  {
   "cell_type": "code",
   "execution_count": null,
   "id": "6da92728",
   "metadata": {},
   "outputs": [],
   "source": []
  }
 ],
 "metadata": {
  "kernelspec": {
   "display_name": "Python 3 (ipykernel)",
   "language": "python",
   "name": "python3"
  },
  "language_info": {
   "codemirror_mode": {
    "name": "ipython",
    "version": 3
   },
   "file_extension": ".py",
   "mimetype": "text/x-python",
   "name": "python",
   "nbconvert_exporter": "python",
   "pygments_lexer": "ipython3",
   "version": "3.10.5"
  }
 },
 "nbformat": 4,
 "nbformat_minor": 5
}
