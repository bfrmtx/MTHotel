{
 "cells": [
  {
   "cell_type": "code",
   "execution_count": 1,
   "id": "92ce2670",
   "metadata": {},
   "outputs": [],
   "source": [
    "import numpy as np\n",
    "import h5py\n",
    "import json\n",
    "from matplotlib import pyplot as plt\n",
    "import sys\n",
    "import os\n",
    "sys.path.append(\"../examples\")\n",
    "import json_header as jh\n"
   ]
  },
  {
   "cell_type": "code",
   "execution_count": 2,
   "id": "1ff5522b",
   "metadata": {},
   "outputs": [],
   "source": [
    "filename = '../examples/084_V01_C02_R001_THx_BL_2S'\n",
    "atss_data = filename + '.atss'\n",
    "atss_header = filename + '.json'\n",
    "# read the header\n",
    "with open(atss_header) as json_file:\n",
    "    header = json.load(json_file)\n",
    "# check if there are doubles inside\n",
    "if header['atss'] != \"double\":\n",
    "    sys.exit(\"file does not contain doubles\")"
   ]
  },
  {
   "cell_type": "code",
   "execution_count": 3,
   "id": "6b047a62",
   "metadata": {},
   "outputs": [
    {
     "name": "stdout",
     "output_type": "stream",
     "text": [
      "expecting:  31716  samples\n"
     ]
    }
   ],
   "source": [
    "# file size is and must be in our case samples * 8\n",
    "samples = int(os.path.getsize(atss_data) / 8)\n",
    "print (\"expecting: \", samples, \" samples\")\n",
    "file = open(atss_data, 'rb')\n",
    "hx = np.fromfile(file, dtype=np.float64)"
   ]
  },
  {
   "cell_type": "code",
   "execution_count": 4,
   "id": "7c6792fe",
   "metadata": {},
   "outputs": [],
   "source": [
    "with h5py.File('./demo_surveys.h5', 'w') as hdf:\n",
    "        su = hdf.create_group('Northern Mining')\n",
    "        cal = hdf.create_group('Northern Mining/calibration')\n",
    "        s1 = hdf.create_group(su.name + '/' + header['site'])\n",
    "        # take a run - so we can later add data from other sensors / transmitters here\n",
    "        r1 = hdf.create_group(s1.name + '/' + f\"{header['run']:03}\")\n",
    "        ds = r1.create_dataset('Hx', data = hx)\n",
    "        defaults = jh.json_header()\n",
    "        defaults.pop('site', None)     # used above don't duplicate\n",
    "        defaults.pop('run', None)      # used above don't duplicate\n",
    "        for key in defaults.keys():\n",
    "            ds.attrs[key] = header[key]    \n",
    "        "
   ]
  },
  {
   "cell_type": "code",
   "execution_count": 5,
   "id": "dee9b987",
   "metadata": {},
   "outputs": [
    {
     "name": "stdout",
     "output_type": "stream",
     "text": [
      "['Northern Mining', 'Northern Mining/Sarıçam', 'Northern Mining/Sarıçam/001', 'Northern Mining/calibration']\n",
      "['Northern Mining/Sarıçam/001/Hx']\n",
      "ItemsViewHDF5(<Attributes of HDF5 object at 139735958585488>)\n"
     ]
    }
   ],
   "source": [
    "# test reading now\n",
    "with h5py.File('./demo_surveys.h5', 'r') as hdf:\n",
    "    all_h5_objs = []\n",
    "    hdf.visit(all_h5_objs.append)\n",
    "    all_groups   = [ obj for obj in all_h5_objs if isinstance(hdf[obj],h5py.Group) ]\n",
    "    all_datasets = [ obj for obj in all_h5_objs if isinstance(hdf[obj],h5py.Dataset) ]\n",
    "    print(all_groups)\n",
    "    print(all_datasets)  # need some more time for fishing\n",
    "    \n",
    "    get = hdf.get('Northern Mining/Sarıçam/001/Hx')\n",
    "    hxread = np.array(get)\n",
    "    #print(get.attrs.keys())\n",
    "    \n",
    "    # restore my json dictionary\n",
    "    newheader = {}\n",
    "    for key, val in get.attrs.items():\n",
    "            #print(\"    %s: %s\" % (key, val))\n",
    "            newheader[key] = val\n",
    "                \n",
    "    #def print_attrs(name, obj):\n",
    "    #    print(name)\n",
    "    #    for key, val in obj.attrs.items():\n",
    "    #        print(\"    %s: %s\" % (key, val))\n",
    "    #        \n",
    "    #hdf.visititems(print_attrs)\n",
    "\n"
   ]
  },
  {
   "cell_type": "code",
   "execution_count": 7,
   "id": "16810a88",
   "metadata": {},
   "outputs": [
    {
     "data": {
      "image/png": "[encoded data removed]",
      "text/plain": [
       "<Figure size 432x288 with 1 Axes>"
      ]
     },
     "metadata": {
      "needs_background": "light"
     },
     "output_type": "display_data"
    }
   ],
   "source": [
    "t = range(hxread.size)      # x axis\n",
    "plt.title( \"Hx\" + newheader['date'])            # title\n",
    "plt.xlabel(\"t\")\n",
    "plt.ylabel(\"[mV]\")\n",
    "plt.plot(t, hxread, c='b', label='data')\n",
    "plt.draw()"
   ]
  },
  {
   "cell_type": "code",
   "execution_count": null,
   "id": "ba3bdb85",
   "metadata": {},
   "outputs": [],
   "source": []
  }
 ],
 "metadata": {
  "kernelspec": {
   "display_name": "Python 3",
   "language": "python",
   "name": "python3"
  },
  "language_info": {
   "codemirror_mode": {
    "name": "ipython",
    "version": 3
   },
   "file_extension": ".py",
   "mimetype": "text/x-python",
   "name": "python",
   "nbconvert_exporter": "python",
   "pygments_lexer": "ipython3",
   "version": "3.9.5"
  }
 },
 "nbformat": 4,
 "nbformat_minor": 5
}
