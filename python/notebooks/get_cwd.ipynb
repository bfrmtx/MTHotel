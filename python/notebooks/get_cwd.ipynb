{
 "cells": [
  {
   "cell_type": "markdown",
   "metadata": {},
   "source": [
    "get the current working directory of the script in Jupyter Notebook"
   ]
  },
  {
   "cell_type": "code",
   "execution_count": 4,
   "metadata": {},
   "outputs": [],
   "source": [
    "import os\n",
    "import sys"
   ]
  },
  {
   "cell_type": "code",
   "execution_count": 5,
   "metadata": {},
   "outputs": [
    {
     "name": "stdout",
     "output_type": "stream",
     "text": [
      "/home/bfr/devel/github_mthotel/MTHotel/python\n",
      "/home/bfr/devel/github_mthotel/MTHotel/python/notebooks\n",
      "/home/bfr/devel/github_mthotel/MTHotel/python/include\n",
      "/tmp\n"
     ]
    }
   ],
   "source": [
    "def get_script_directory(n_levels_up=0, explicit_tmp_dir=None):\n",
    "    main_dir = ''\n",
    "    script_dir = ''\n",
    "    include_dir = ''\n",
    "    temp_dir = '/tmp'\n",
    "    try:\n",
    "        # Check if running in a standard Python script\n",
    "        script_dir = os.path.dirname(os.path.abspath(__file__))\n",
    "        # return script_dir\n",
    "    except NameError:\n",
    "        # If __file__ is not defined, we are likely in a Jupyter Notebook\n",
    "        from IPython import get_ipython\n",
    "        if 'IPKernelApp' in get_ipython().config:\n",
    "            script_dir = os.getcwd()\n",
    "        else:\n",
    "            raise RuntimeError(\"Unable to determine the script directory\")\n",
    "    # cd up n_levels_up\n",
    "    main_dir = script_dir\n",
    "    for i in range(n_levels_up):\n",
    "        main_dir = os.path.dirname(main_dir)\n",
    "    include_dir = os.path.join(main_dir, 'include')\n",
    "    # leave the temporary directory to the user\n",
    "    if explicit_tmp_dir is not None:\n",
    "        temp_dir = explicit_tmp_dir\n",
    "        return main_dir, script_dir, include_dir, temp_dir\n",
    "    # else we try the simplest way to get the temporary directory\n",
    "    # determine if we run Linux, MacOS or Windows\n",
    "    if sys.platform == 'linux':\n",
    "        temp_dir = '/tmp'\n",
    "    elif sys.platform == 'darwin':\n",
    "        temp_dir = '/tmp'\n",
    "    elif sys.platform == 'win32':\n",
    "        temp_dir = os.environ['TEMP']\n",
    "    else:\n",
    "        raise RuntimeError(\"Unknown platform\")\n",
    "\n",
    "    # return all directories\n",
    "    return main_dir, script_dir, include_dir, temp_dir\n",
    "#\n",
    "main_dir, script_dir, include_dir, temp_dir = get_script_directory(1)\n",
    "print(main_dir)\n",
    "print(script_dir)\n",
    "print(include_dir)\n",
    "print(temp_dir)\n"
   ]
  }
 ],
 "metadata": {
  "kernelspec": {
   "display_name": "Python 3 (ipykernel)",
   "language": "python",
   "name": "python3"
  },
  "language_info": {
   "codemirror_mode": {
    "name": "ipython",
    "version": 3
   },
   "file_extension": ".py",
   "mimetype": "text/x-python",
   "name": "python",
   "nbconvert_exporter": "python",
   "pygments_lexer": "ipython3",
   "version": "3.12.4"
  }
 },
 "nbformat": 4,
 "nbformat_minor": 4
}
